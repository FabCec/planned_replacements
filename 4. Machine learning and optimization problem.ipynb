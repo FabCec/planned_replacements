{
 "cells": [
  {
   "cell_type": "markdown",
   "metadata": {},
   "source": [
    "In [Notebook 3](https://github.com/FabCec/planned_replacements/blob/master/3.%20Exploratory%20data%20analysis%20and%20inferential%20statistic.ipynb) we explored the dataset and obtain insights on what fraction of failures could be prevented by means of predictive replacement. In this notebook we aim to use machine learning techniques in order to judge whether a HDD is close to failure (and should therefore be turned off), or not.\n",
    "\n",
    "By means of these techniques we aim to determine a good predictive replacement policy. Assume that each HDD working on a certain day give a profit of $1$ unit and that the failure of an HDD yields a cost of $C$ units (where $C \\gg 1$). Hence, the revenue on day $t$ is given by \n",
    "\n",
    "$$\n",
    "R_t = A_t - C F_t,\n",
    "$$\n",
    "\n",
    "where $A_t$ is the number of HDDs active on day $t$ and $F_t$ is the number of HDDs failing on the same day. We aim to maximize the total revenue in a period of interest $T$, i.e., \n",
    "\n",
    "$$\n",
    "R = \\sum_{t \\in T} R_t. \n",
    "$$\n",
    "\n",
    "Note that when an HDD is labeled as close to failure by our classification algorithm it will be turned off for good, thus preventing it to produce revenue on the following days. Hence, a trade-off has to be found between turning off HDDs too early or missing to turning them off and incur the failure cost. \n",
    "\n",
    "First of all we load the dataframes we saved at the end of [Notebook 3](https://github.com/FabCec/planned_replacements/blob/master/3.%20Exploratory%20data%20analysis%20and%20inferential%20statistic.ipynb).\n"
   ]
  },
  {
   "cell_type": "code",
   "execution_count": 1,
   "metadata": {
    "collapsed": true
   },
   "outputs": [],
   "source": [
    "import numpy as np\n",
    "import pandas as pd\n",
    "import matplotlib.pyplot as plt\n",
    "import seaborn as sns\n",
    "from datetime import datetime, timedelta\n",
    "\n"
   ]
  },
  {
   "cell_type": "code",
   "execution_count": 2,
   "metadata": {
    "collapsed": false
   },
   "outputs": [
    {
     "data": {
      "text/html": [
       "<div>\n",
       "<style scoped>\n",
       "    .dataframe tbody tr th:only-of-type {\n",
       "        vertical-align: middle;\n",
       "    }\n",
       "\n",
       "    .dataframe tbody tr th {\n",
       "        vertical-align: top;\n",
       "    }\n",
       "\n",
       "    .dataframe thead th {\n",
       "        text-align: right;\n",
       "    }\n",
       "</style>\n",
       "<table border=\"1\" class=\"dataframe\">\n",
       "  <thead>\n",
       "    <tr style=\"text-align: right;\">\n",
       "      <th></th>\n",
       "      <th>serial_number</th>\n",
       "      <th>date</th>\n",
       "      <th>failure</th>\n",
       "      <th>smart_1_normalized</th>\n",
       "      <th>smart_5_normalized</th>\n",
       "      <th>smart_7_normalized</th>\n",
       "      <th>smart_8_normalized</th>\n",
       "      <th>smart_192_normalized</th>\n",
       "      <th>smart_193_normalized</th>\n",
       "      <th>smart_196_normalized</th>\n",
       "      <th>state</th>\n",
       "      <th>D_from_first</th>\n",
       "      <th>D_to_last</th>\n",
       "    </tr>\n",
       "  </thead>\n",
       "  <tbody>\n",
       "    <tr>\n",
       "      <th>0</th>\n",
       "      <td>JK1100B8G3B7AT</td>\n",
       "      <td>2015-01-01</td>\n",
       "      <td>0</td>\n",
       "      <td>100.0</td>\n",
       "      <td>100.0</td>\n",
       "      <td>100.0</td>\n",
       "      <td>100.0</td>\n",
       "      <td>100.0</td>\n",
       "      <td>100.0</td>\n",
       "      <td>100.0</td>\n",
       "      <td>healthy</td>\n",
       "      <td>0</td>\n",
       "      <td>-602</td>\n",
       "    </tr>\n",
       "    <tr>\n",
       "      <th>1</th>\n",
       "      <td>JK1100B8G3B7AT</td>\n",
       "      <td>2015-01-02</td>\n",
       "      <td>0</td>\n",
       "      <td>100.0</td>\n",
       "      <td>100.0</td>\n",
       "      <td>100.0</td>\n",
       "      <td>100.0</td>\n",
       "      <td>100.0</td>\n",
       "      <td>100.0</td>\n",
       "      <td>100.0</td>\n",
       "      <td>healthy</td>\n",
       "      <td>1</td>\n",
       "      <td>-601</td>\n",
       "    </tr>\n",
       "    <tr>\n",
       "      <th>2</th>\n",
       "      <td>JK1100B8G3B7AT</td>\n",
       "      <td>2015-01-03</td>\n",
       "      <td>0</td>\n",
       "      <td>100.0</td>\n",
       "      <td>100.0</td>\n",
       "      <td>100.0</td>\n",
       "      <td>100.0</td>\n",
       "      <td>100.0</td>\n",
       "      <td>100.0</td>\n",
       "      <td>100.0</td>\n",
       "      <td>healthy</td>\n",
       "      <td>2</td>\n",
       "      <td>-600</td>\n",
       "    </tr>\n",
       "    <tr>\n",
       "      <th>3</th>\n",
       "      <td>JK1100B8G3B7AT</td>\n",
       "      <td>2015-01-04</td>\n",
       "      <td>0</td>\n",
       "      <td>100.0</td>\n",
       "      <td>100.0</td>\n",
       "      <td>100.0</td>\n",
       "      <td>100.0</td>\n",
       "      <td>100.0</td>\n",
       "      <td>100.0</td>\n",
       "      <td>100.0</td>\n",
       "      <td>healthy</td>\n",
       "      <td>3</td>\n",
       "      <td>-599</td>\n",
       "    </tr>\n",
       "    <tr>\n",
       "      <th>4</th>\n",
       "      <td>JK1100B8G3B7AT</td>\n",
       "      <td>2015-01-05</td>\n",
       "      <td>0</td>\n",
       "      <td>100.0</td>\n",
       "      <td>100.0</td>\n",
       "      <td>100.0</td>\n",
       "      <td>100.0</td>\n",
       "      <td>100.0</td>\n",
       "      <td>100.0</td>\n",
       "      <td>100.0</td>\n",
       "      <td>healthy</td>\n",
       "      <td>4</td>\n",
       "      <td>-598</td>\n",
       "    </tr>\n",
       "  </tbody>\n",
       "</table>\n",
       "</div>"
      ],
      "text/plain": [
       "    serial_number       date  failure  smart_1_normalized  smart_5_normalized  \\\n",
       "0  JK1100B8G3B7AT 2015-01-01        0               100.0               100.0   \n",
       "1  JK1100B8G3B7AT 2015-01-02        0               100.0               100.0   \n",
       "2  JK1100B8G3B7AT 2015-01-03        0               100.0               100.0   \n",
       "3  JK1100B8G3B7AT 2015-01-04        0               100.0               100.0   \n",
       "4  JK1100B8G3B7AT 2015-01-05        0               100.0               100.0   \n",
       "\n",
       "   smart_7_normalized  smart_8_normalized  smart_192_normalized  \\\n",
       "0               100.0               100.0                 100.0   \n",
       "1               100.0               100.0                 100.0   \n",
       "2               100.0               100.0                 100.0   \n",
       "3               100.0               100.0                 100.0   \n",
       "4               100.0               100.0                 100.0   \n",
       "\n",
       "   smart_193_normalized  smart_196_normalized    state  D_from_first  \\\n",
       "0                 100.0                 100.0  healthy             0   \n",
       "1                 100.0                 100.0  healthy             1   \n",
       "2                 100.0                 100.0  healthy             2   \n",
       "3                 100.0                 100.0  healthy             3   \n",
       "4                 100.0                 100.0  healthy             4   \n",
       "\n",
       "   D_to_last  \n",
       "0       -602  \n",
       "1       -601  \n",
       "2       -600  \n",
       "3       -599  \n",
       "4       -598  "
      ]
     },
     "execution_count": 2,
     "metadata": {},
     "output_type": "execute_result"
    }
   ],
   "source": [
    "ModelName = 'Hitachi HDS722020ALA330' \n",
    "\n",
    "folder_name_model = ModelName.replace(' ', '_')\n",
    "folder_name = 'Data/' + folder_name_model\n",
    "\n",
    "df = pd.read_csv(folder_name + '/DataFrame.csv', parse_dates=[1])\n",
    "df_serialnumber = pd.read_csv(folder_name + '/serialnumber.csv')\n",
    "df_smartmetrics = pd.read_csv(folder_name + '/smartmetrics.csv')\n",
    "\n",
    "df_smartmetrics.rename(columns={'Unnamed: 0':'statistic'}, inplace=True)\n",
    "df_smartmetrics.set_index('statistic')\n",
    "\n",
    "df_serialnumber.rename(columns={'Unnamed: 0':'serial_number'}, inplace=True)\n",
    "\n",
    "df.head()"
   ]
  },
  {
   "cell_type": "markdown",
   "metadata": {},
   "source": [
    "Before starting any learning procedure, we have to split our data in training and test data. However, instead of splitting the main dataframe (df), we apply the splitting procedure on the dataframe df_serialnumber. In this way, the entire time series associated to a specific HDD will be either in the training or the test dataset which has two immediate positive consequences:\n",
    "\n",
    "- The train and the test dataset are independent.\n",
    "- We can test the predictive replacement policy obtained analyzing the training dataset on the HDDs belonging to the test dataset."
   ]
  },
  {
   "cell_type": "code",
   "execution_count": 3,
   "metadata": {
    "collapsed": false
   },
   "outputs": [
    {
     "name": "stdout",
     "output_type": "stream",
     "text": [
      "We use 3512 models for training (113 failing) and 1171 models for testing (38 failing).\n",
      "\n",
      "The fraction of faining models in the training set is 0.0321753986333. In the testing set is 0.0324508966695.\n",
      "\n",
      "Thus, we have 1954262 observations for training and 653358 for testing.\n",
      "\n"
     ]
    }
   ],
   "source": [
    "from sklearn.model_selection import train_test_split\n",
    "\n",
    "model_X = df_serialnumber['serial_number'].values\n",
    "model_y = (df_serialnumber['state'] == 'fail').values\n",
    "\n",
    "model_X_train, model_X_test, model_y_train, model_y_test = train_test_split(model_X, model_y, random_state = 1, stratify = model_y)\n",
    "\n",
    "training_models = set(model_X_train)\n",
    "\n",
    "print('We use ' + str(len(model_X_train)) + ' models for training (' + str(np.sum(model_y_train)) + ' failing) and ' + str(len(model_X_test)) + ' models for testing (' + str(np.sum(model_y_test)) + ' failing).\\n')\n",
    "\n",
    "print('The fraction of faining models in the training set is ' + str(np.mean(model_y_train)) + '. In the testing set is ' + str(np.mean(model_y_test)) + '.\\n')\n",
    "\n",
    "training_data_mask = [x in training_models for x in df['serial_number']]\n",
    "test_data_mask = [not x for x in training_data_mask]\n",
    "\n",
    "print('Thus, we have ' + str(np.sum(training_data_mask)) + ' observations for training and ' + str(np.sum(test_data_mask)) + ' for testing.\\n')"
   ]
  },
  {
   "cell_type": "markdown",
   "metadata": {},
   "source": [
    "The dataframe df can be seen in two different ways:\n",
    "\n",
    "- An observation consists of a single measure on a specific day.\n",
    "- An observation consists of the entire time-series associated to a specific HDD.\n",
    "\n",
    "By using the first approach we keep track of the entire temporal evolution of the SMART metrics but we have a small pool of observations.\n",
    "\n",
    "By using the second approach we lose the temporal dependence of the entries but we maintain a tremendously larger pool of observations.\n",
    "\n",
    "In this notebook we aim to explore both approaches. "
   ]
  },
  {
   "cell_type": "markdown",
   "metadata": {},
   "source": [
    "The policies deduced will be compared with the total revenue $R$ obtained with only a preventive replacements policy. \n",
    "\n",
    "The following function is used to extract the revenue per day. It takes in input:\n",
    "\n",
    "- C : The cost per failure\n",
    "- turned_off : The set of HDDs serial_numbers that the policy prescribed to turn off before that day.\n",
    "- hdds : The list of HDDs observed that day (those active in the original dataset)\n",
    "- failures : The list of 0/1 capturing whether the observed HDD failed that day"
   ]
  },
  {
   "cell_type": "code",
   "execution_count": 4,
   "metadata": {
    "collapsed": false
   },
   "outputs": [],
   "source": [
    "def revenue_per_day(C, turned_off, hdds, failures) :\n",
    "    '''For a given day, add 1 for every hdd in hdds which do not fail on that day and was not already turned off. Remove 50 if the hdd is on and failed on that day.'''\n",
    "    revenue = 0\n",
    "    for ind in range(len(hdds)) : \n",
    "        active = hdds[ind] in turned_off\n",
    "        revenue = revenue + (1 - active)*((1 - failures[ind]) - C*failures[ind])\n",
    "    return revenue    \n",
    "        "
   ]
  },
  {
   "cell_type": "markdown",
   "metadata": {},
   "source": [
    "What shall we expect to gain with a preventive replacement policy as C changes ? "
   ]
  },
  {
   "cell_type": "code",
   "execution_count": 5,
   "metadata": {
    "collapsed": false,
    "scrolled": false
   },
   "outputs": [
    {
     "data": {
      "image/png": "[encoded data removed]",
      "text/plain": [
       "<matplotlib.figure.Figure at 0x7ff03b92d0f0>"
      ]
     },
     "metadata": {},
     "output_type": "display_data"
    },
    {
     "data": {
      "image/png": "[encoded data removed]",
      "text/plain": [
       "<matplotlib.figure.Figure at 0x7ff02f0b78d0>"
      ]
     },
     "metadata": {},
     "output_type": "display_data"
    }
   ],
   "source": [
    "dates = df.date.unique()\n",
    "Cs = [1, 10, 100, 1000, 10000]\n",
    "turned_off = set()\n",
    "total_revenue = []\n",
    "\n",
    "for C in Cs :\n",
    "    revenue = []\n",
    "\n",
    "    for ind, day in enumerate(dates) :\n",
    "        df_day = df[df['date']==day]\n",
    "        revenue.append(revenue_per_day(C, turned_off, df_day['serial_number'].values, df_day['failure'].values))\n",
    "        # With predictive replacement : Include here the HDDs predicted to fail to the set turned_off\n",
    "    \n",
    "    cum_revenue = np.cumsum(revenue)\n",
    "    total_revenue.append(cum_revenue[-1])\n",
    "\n",
    "    plt.plot(dates, cum_revenue, label = 'C = {}'.format(C))\n",
    "    \n",
    "plt.title('Preventive replacement with different values of C')\n",
    "plt.legend()\n",
    "plt.show()        \n",
    "\n",
    "plt.scatter(x = Cs, y = total_revenue, marker = 'D')\n",
    "plt.title('Total revenue at the end of the period')\n",
    "plt.xlabel('C')\n",
    "plt.ylabel('R')\n",
    "plt.xscale('log')\n",
    "plt.show()"
   ]
  },
  {
   "cell_type": "markdown",
   "metadata": {},
   "source": [
    "## First approach - Daily observations\n",
    "\n",
    "In order to capture, at least partially, the temporal evolution of the SMART metrics. We now compute the relative differences in the value of the SMART metrics. In particular, for every SMART metric $n$ in the dataframe we include the columns:\n",
    "\n",
    "- smart_n_normalized_diff1 \n",
    "- smart_n_normalized_diff2 \n",
    "- smart_n_normalized_diff7\n",
    "- smart_n_normalized_diff14 \n",
    "\n",
    "where the entries in smart_n_normalized_diffk denotes the difference in the SMART metric on that day with respect to k days before. When the data of k days before is not available, we set the value to 0."
   ]
  },
  {
   "cell_type": "code",
   "execution_count": 6,
   "metadata": {
    "collapsed": false
   },
   "outputs": [
    {
     "name": "stdout",
     "output_type": "stream",
     "text": [
      "<class 'pandas.core.frame.DataFrame'>\n",
      "RangeIndex: 2607620 entries, 0 to 2607619\n",
      "Data columns (total 41 columns):\n",
      "serial_number                  object\n",
      "date                           datetime64[ns]\n",
      "failure                        int64\n",
      "smart_1_normalized             float64\n",
      "smart_5_normalized             float64\n",
      "smart_7_normalized             float64\n",
      "smart_8_normalized             float64\n",
      "smart_192_normalized           float64\n",
      "smart_193_normalized           float64\n",
      "smart_196_normalized           float64\n",
      "state                          object\n",
      "D_from_first                   int64\n",
      "D_to_last                      int64\n",
      "smart_1_normalized_diff1       float64\n",
      "smart_5_normalized_diff1       float64\n",
      "smart_7_normalized_diff1       float64\n",
      "smart_8_normalized_diff1       float64\n",
      "smart_192_normalized_diff1     float64\n",
      "smart_193_normalized_diff1     float64\n",
      "smart_196_normalized_diff1     float64\n",
      "smart_1_normalized_diff2       float64\n",
      "smart_5_normalized_diff2       float64\n",
      "smart_7_normalized_diff2       float64\n",
      "smart_8_normalized_diff2       float64\n",
      "smart_192_normalized_diff2     float64\n",
      "smart_193_normalized_diff2     float64\n",
      "smart_196_normalized_diff2     float64\n",
      "smart_1_normalized_diff7       float64\n",
      "smart_5_normalized_diff7       float64\n",
      "smart_7_normalized_diff7       float64\n",
      "smart_8_normalized_diff7       float64\n",
      "smart_192_normalized_diff7     float64\n",
      "smart_193_normalized_diff7     float64\n",
      "smart_196_normalized_diff7     float64\n",
      "smart_1_normalized_diff14      float64\n",
      "smart_5_normalized_diff14      float64\n",
      "smart_7_normalized_diff14      float64\n",
      "smart_8_normalized_diff14      float64\n",
      "smart_192_normalized_diff14    float64\n",
      "smart_193_normalized_diff14    float64\n",
      "smart_196_normalized_diff14    float64\n",
      "dtypes: datetime64[ns](1), float64(35), int64(3), object(2)\n",
      "memory usage: 815.7+ MB\n"
     ]
    }
   ],
   "source": [
    "differences = [1, 2, 7, 14]\n",
    "smart_metrics = list(df_smartmetrics.columns[1:].values)\n",
    "\n",
    "for difference in differences :\n",
    "    \n",
    "    df2 = df.groupby('serial_number').diff(periods = difference)\n",
    "    suff = '_diff' + str(difference)\n",
    "    \n",
    "    for smart_metric in smart_metrics :\n",
    "        new_col = smart_metric + suff\n",
    "        df[new_col] = df2[smart_metric]\n",
    "        \n",
    "df = df.fillna(0)\n",
    "df.info()"
   ]
  },
  {
   "cell_type": "markdown",
   "metadata": {},
   "source": [
    "We now need to determine the X (data input) and the y (label) for our machine learning algorithms. \n",
    "\n",
    "As for the X value, we aim to use only the SMART metrics measurements to make our predictions. \n",
    "\n",
    "As for the y label, we aim to label with a $1$ (close to failure) every HDD we would be happy to turn off after observing the SMART metrics measurements of that day. By this, we mean that we do not want to turn off a HDD who not close to failure, i.e., it could be on for some time and consequently produce revenue.\n",
    "\n",
    "In our model, we thus need to set a threshold $F$ and label with a $1$ every observation of an HDD which will fail in the following $F$ days. The choice of $F$ should clearly depend on $C$, i.e., $F = F(C)$. In particular, we do not want $F \\geq C$ because that would mean turning off HDDs who would produce more revenue than the failure cost. \n",
    "\n",
    "However, from the exploratory data analysis performed, we observed that there are no indiction of failure when we are more than 14 days from it, we thus select $F(C)$ as follows\n",
    "\n",
    "$$\n",
    "F(C) = \\min(C-1, 15)\n",
    "$$\n"
   ]
  },
  {
   "cell_type": "markdown",
   "metadata": {},
   "source": [
    "We now use $F(C)$ and the masks created above to obtain X and y, both for the training and the test HDDs."
   ]
  },
  {
   "cell_type": "code",
   "execution_count": 7,
   "metadata": {
    "collapsed": false
   },
   "outputs": [],
   "source": [
    "C = 1000\n",
    "Threshold = 15\n",
    "F = min(Threshold, C-1)\n",
    "\n",
    "df['label'] = (df['state'] == 'fail') & (df['D_to_last'] > -F).astype(int)\n",
    "\n",
    "col_X = [col for col in df.columns if col.startswith('smart')]\n",
    "\n",
    "X_train = df[col_X].loc[training_data_mask, :].values\n",
    "X_test = df[col_X].loc[test_data_mask, :].values\n",
    "y_train = df.loc[training_data_mask, 'label'].values\n",
    "y_test = df.loc[test_data_mask, 'label'].values"
   ]
  },
  {
   "cell_type": "markdown",
   "metadata": {},
   "source": [
    "### PCA Analysis - What is the intrinsic dimension of the dataset?\n",
    "\n",
    "The datasets are ready to be used by the different machine learning algorithms. Before doing that, we spend some time trying to understand the dimensionality of the problem."
   ]
  },
  {
   "cell_type": "code",
   "execution_count": 8,
   "metadata": {
    "collapsed": false
   },
   "outputs": [
    {
     "data": {
      "image/png": "[encoded data removed]",
      "text/plain": [
       "<matplotlib.figure.Figure at 0x7ff02f07e748>"
      ]
     },
     "metadata": {},
     "output_type": "display_data"
    },
    {
     "name": "stdout",
     "output_type": "stream",
     "text": [
      "The intrinsic dimension of the dataset seems to be 4.\n"
     ]
    }
   ],
   "source": [
    "from sklearn.preprocessing import Normalizer\n",
    "from sklearn.decomposition import PCA\n",
    "from sklearn.pipeline import Pipeline\n",
    "import matplotlib.cm as cm\n",
    "\n",
    "scaler = Normalizer()\n",
    "pca = PCA()\n",
    "steps = [('scaler', scaler), ('pca', pca)]\n",
    "pipeline = Pipeline(steps)\n",
    "\n",
    "pipeline.fit(X_train)\n",
    "#pca.fit(X_train)\n",
    "\n",
    "plt.bar(range(1,len(col_X)+1), pca.explained_variance_)\n",
    "plt.xlabel('Principal component')\n",
    "plt.ylabel('Variance explained')\n",
    "plt.show()\n",
    "\n",
    "print('The intrinsic dimension of the dataset seems to be 4.')"
   ]
  },
  {
   "cell_type": "code",
   "execution_count": 9,
   "metadata": {
    "collapsed": false
   },
   "outputs": [
    {
     "data": {
      "image/png": "[encoded data removed]",
      "text/plain": [
       "<matplotlib.figure.Figure at 0x7ff02ed6ca20>"
      ]
     },
     "metadata": {},
     "output_type": "display_data"
    }
   ],
   "source": [
    "pca2 = PCA(n_components = 2)\n",
    "steps = [('scaler', scaler), ('pca', pca2)]\n",
    "pipeline = Pipeline(steps)\n",
    "\n",
    "pipeline.fit(X_train)\n",
    "\n",
    "X_train_pca2 = pipeline.transform(X_train)\n",
    "X_train_pca2_x = X_train_pca2[:,0]\n",
    "X_train_pca2_y = X_train_pca2[:,1]\n",
    "\n",
    "df_pca = pd.DataFrame({'cluster' : y_train, 'pca_x' : X_train_pca2_x, 'pca_y' : X_train_pca2_y})\n",
    "\n",
    "plt.scatter(x = df_pca.loc[df_pca['cluster'] == 0, 'pca_x'], y = df_pca.loc[df_pca['cluster'] == 0, 'pca_y'], c = 'b', alpha = 0.2, label = 'Healthy')\n",
    "plt.scatter(x = df_pca.loc[df_pca['cluster'] == 1, 'pca_x'], y = df_pca.loc[df_pca['cluster'] == 1, 'pca_y'], marker = 'D', c = 'r', alpha = 0.5, label = 'Failing')\n",
    "plt.xlabel('PCA component 1')\n",
    "plt.ylabel('PCA component 2')\n",
    "plt.legend()\n",
    "plt.show()\n"
   ]
  },
  {
   "cell_type": "markdown",
   "metadata": {},
   "source": [
    "As observed in the previous notebooks, most of the failures happen without having any signal from the SMART metrics. This can be seen in the above scatter plot as well, in fact most of the failing observations are mixed with the healthy ones."
   ]
  },
  {
   "cell_type": "markdown",
   "metadata": {},
   "source": [
    "### KNN Classifier\n",
    "\n",
    "KNN is extremely slow due to the large number of observations, it is not the best choice. "
   ]
  },
  {
   "cell_type": "code",
   "execution_count": 10,
   "metadata": {
    "collapsed": false
   },
   "outputs": [],
   "source": [
    "#from sklearn.neighbors import KNeighborsClassifier\n",
    "#from sklearn.model_selection import GridSearchCV\n",
    "\n",
    "#param_grid = {'n_neighbors' : np.arange(1,5)}\n",
    "#knn = KNeighborsClassifier()\n",
    "#knn_cv = GridSearchCV(knn, param_grid, cv = 5)\n",
    "#knn_cv.fit(X_train, y_train)\n",
    "\n",
    "#best_n_neighbors = knn_cv.best_params_\n",
    "#print(best_n_neighbors)"
   ]
  },
  {
   "cell_type": "code",
   "execution_count": 12,
   "metadata": {
    "collapsed": false
   },
   "outputs": [],
   "source": [
    "#from sklearn.neighbors import KNeighborsClassifier\n",
    "\n",
    "#knn = KNeighborsClassifier(n_neighbors = 5)     # Substitute 5 with best_n_neighbors from cell above\n",
    "#knn.fit(X_train, y_train)\n",
    "\n",
    "#knn_y_train_proba = knn.predict_proba(X_train)\n",
    "#knn_y_test_proba = knn.predict_proba(X_test)\n",
    "\n",
    "#print('Training set performance:\\n')\n",
    "\n",
    "#for prob in [0.5, 0.6, 0.7, 0.75, 0.8, 0.9]:\n",
    "\n",
    "#    knn_y_train_pred = (knn_y_train_proba[:,1] > prob)\n",
    "\n",
    "#    tn, fp, fn, tp = confusion_matrix(y_train, knn_y_train_pred).ravel()\n",
    "\n",
    "#    print('With threshold prob. {}'.format(prob) + ': we have tn = {} '.format(tn) + ', fp = {} '.format(fp)+ ', fn = {} '.format(fn)+ ', tp = {} '.format(tp))\n",
    "    \n",
    "#print('\\nTest data performance:\\n')\n",
    "#y_test_proba = rf.predict_proba(X_test)\n",
    "\n",
    "#for prob in [0.5, 0.6, 0.7, 0.75, 0.8, 0.9]:\n",
    "\n",
    "#    knn_y_test_pred = (knn_y_test_proba[:,1] > prob)\n",
    "\n",
    "#    tn, fp, fn, tp = confusion_matrix(y_test, knn_y_test_pred).ravel()\n",
    "\n",
    "#    print('With threshold prob. {}'.format(prob) + ': we have tn = {} '.format(tn) + ', fp = {} '.format(fp)+ ', fn = {} '.format(fn)+ ', tp = {} '.format(tp))  "
   ]
  },
  {
   "cell_type": "markdown",
   "metadata": {},
   "source": [
    "### Random Forest Classifier\n"
   ]
  },
  {
   "cell_type": "code",
   "execution_count": 13,
   "metadata": {
    "collapsed": false
   },
   "outputs": [],
   "source": [
    "#from sklearn.ensemble import RandomForestClassifier\n",
    "#from sklearn.model_selection import GridSearchCV\n",
    "\n",
    "#param_grid = {'max_features' : ['sqrt', 'log2'],\n",
    "#              'n_estimators' : [10, 20]}\n",
    "\n",
    "#rf = RandomForestClassifier(random_state=10)\n",
    "#rf_cv = GridSearchCV(rf, param_grid, cv = 5)\n",
    "#rf_cv.fit(X_train, y_train)\n",
    "\n",
    "#best_max_features, best_n_estimators = rf_cv.best_params_\n",
    "#print(best_max_features)\n",
    "#print(best_n_estimators)\n"
   ]
  },
  {
   "cell_type": "code",
   "execution_count": 14,
   "metadata": {
    "collapsed": false
   },
   "outputs": [
    {
     "name": "stdout",
     "output_type": "stream",
     "text": [
      "Training set performance:\n",
      "\n",
      "With threshold prob. 0.5: we have tn = 1952610 , fp = 17 , fn = 1285 , tp = 350 \n",
      "With threshold prob. 0.6: we have tn = 1952626 , fp = 1 , fn = 1377 , tp = 258 \n",
      "With threshold prob. 0.7: we have tn = 1952627 , fp = 0 , fn = 1491 , tp = 144 \n",
      "With threshold prob. 0.75: we have tn = 1952627 , fp = 0 , fn = 1538 , tp = 97 \n",
      "With threshold prob. 0.8: we have tn = 1952627 , fp = 0 , fn = 1566 , tp = 69 \n",
      "With threshold prob. 0.9: we have tn = 1952627 , fp = 0 , fn = 1615 , tp = 20 \n",
      "\n",
      "Test data performance:\n",
      "\n",
      "With threshold prob. 0.5: we have tn = 652669 , fp = 158 , fn = 502 , tp = 29 \n",
      "With threshold prob. 0.6: we have tn = 652802 , fp = 25 , fn = 523 , tp = 8 \n",
      "With threshold prob. 0.7: we have tn = 652825 , fp = 2 , fn = 523 , tp = 8 \n",
      "With threshold prob. 0.75: we have tn = 652827 , fp = 0 , fn = 524 , tp = 7 \n",
      "With threshold prob. 0.8: we have tn = 652827 , fp = 0 , fn = 526 , tp = 5 \n",
      "With threshold prob. 0.9: we have tn = 652827 , fp = 0 , fn = 531 , tp = 0 \n"
     ]
    }
   ],
   "source": [
    "from sklearn.ensemble import RandomForestClassifier\n",
    "from sklearn.metrics import confusion_matrix\n",
    "\n",
    "#rf = RandomForestClassifier(random_state=10, max_features = best_max_features, n_estimators = best_n_estimators)\n",
    "rf = RandomForestClassifier(random_state=10, max_features = 'sqrt', n_estimators = 50)     \n",
    "rf.fit(X_train, y_train)\n",
    "\n",
    "rf_y_train_proba = rf.predict_proba(X_train)\n",
    "rf_y_test_proba = rf.predict_proba(X_test)\n",
    "\n",
    "print('Training set performance:\\n')\n",
    "\n",
    "for prob in [0.5, 0.6, 0.7, 0.75, 0.8, 0.9]:\n",
    "\n",
    "    y_train_pred = (rf_y_train_proba[:,1] > prob)\n",
    "\n",
    "    tn, fp, fn, tp = confusion_matrix(y_train, y_train_pred).ravel()\n",
    "\n",
    "    print('With threshold prob. {}'.format(prob) + ': we have tn = {} '.format(tn) + ', fp = {} '.format(fp)+ ', fn = {} '.format(fn)+ ', tp = {} '.format(tp))\n",
    "    \n",
    "print('\\nTest data performance:\\n')\n",
    "y_test_proba = rf.predict_proba(X_test)\n",
    "\n",
    "for prob in [0.5, 0.6, 0.7, 0.75, 0.8, 0.9]:\n",
    "\n",
    "    y_test_pred = (rf_y_test_proba[:,1] > prob)\n",
    "\n",
    "    tn, fp, fn, tp = confusion_matrix(y_test, y_test_pred).ravel()\n",
    "\n",
    "    print('With threshold prob. {}'.format(prob) + ': we have tn = {} '.format(tn) + ', fp = {} '.format(fp)+ ', fn = {} '.format(fn)+ ', tp = {} '.format(tp))    "
   ]
  },
  {
   "cell_type": "code",
   "execution_count": 15,
   "metadata": {
    "collapsed": false
   },
   "outputs": [
    {
     "name": "stdout",
     "output_type": "stream",
     "text": [
      "R with only preventive replacement = 615320\n"
     ]
    },
    {
     "name": "stderr",
     "output_type": "stream",
     "text": [
      "/home/fabio/anaconda/lib/python3.6/site-packages/ipykernel/__main__.py:21: SettingWithCopyWarning: \n",
      "A value is trying to be set on a copy of a slice from a DataFrame.\n",
      "Try using .loc[row_indexer,col_indexer] = value instead\n",
      "\n",
      "See the caveats in the documentation: http://pandas.pydata.org/pandas-docs/stable/indexing.html#indexing-view-versus-copy\n"
     ]
    },
    {
     "name": "stdout",
     "output_type": "stream",
     "text": [
      "['JK1105B8GG42WX']\n",
      "['JK1105B8GG42WX']\n",
      "['JK1105B8GG42WX']\n",
      "['JK1105B8GG42WX']\n",
      "['JK1105B8GG42WX']\n",
      "['JK1105B8GG42WX']\n",
      "['JK1105B8GG42WX']\n",
      "R with predictive replacement (RandomForest threshold 0.75) = 616314\n"
     ]
    },
    {
     "data": {
      "image/png": "[encoded data removed]",
      "text/plain": [
       "<matplotlib.figure.Figure at 0x7ff02ed5fbe0>"
      ]
     },
     "metadata": {},
     "output_type": "display_data"
    }
   ],
   "source": [
    "df_test = df.loc[test_data_mask, :]\n",
    "\n",
    "dates = df.date.unique()\n",
    "C = 1000\n",
    "total_revenue = []\n",
    "\n",
    "revenue = []\n",
    "turned_off = set()\n",
    "\n",
    "for ind, day in enumerate(dates) :\n",
    "    df_day = df_test[df_test['date']==day]\n",
    "    revenue.append(revenue_per_day(C, turned_off, df_day['serial_number'].values, df_day['failure'].values))\n",
    "    \n",
    "cum_revenue = np.cumsum(revenue)\n",
    "print('R with only preventive replacement = {}'.format(cum_revenue[-1]))\n",
    "\n",
    "plt.plot(dates, cum_revenue, label = 'Preventive Replacement')\n",
    "\n",
    "revenue = []\n",
    "turned_off = set()\n",
    "df_test['predictions'] = (rf.predict_proba(X_test)[:,1] > 0.75)\n",
    "\n",
    "for ind, day in enumerate(dates) :\n",
    "    df_day = df_test[df_test['date']==day]\n",
    "    revenue.append(revenue_per_day(C, turned_off, df_day['serial_number'].values, df_day['failure'].values))\n",
    "    to_turn_off = df_day.loc[df_day['predictions'] == 1,'serial_number'].values\n",
    "    if len(to_turn_off) > 0 :\n",
    "        print(to_turn_off)\n",
    "        turned_off.update(to_turn_off) \n",
    "    \n",
    "cum_revenue = np.cumsum(revenue)\n",
    "print('R with predictive replacement (RandomForest threshold 0.75) = {}'.format(cum_revenue[-1]))\n",
    "\n",
    "plt.plot(dates, cum_revenue, label = 'Predictive Replacement')\n",
    "\n",
    "\n",
    "plt.title('Preventive vs Predictive replacement')\n",
    "plt.legend()\n",
    "plt.show()        \n"
   ]
  },
  {
   "cell_type": "code",
   "execution_count": null,
   "metadata": {
    "collapsed": true
   },
   "outputs": [],
   "source": []
  }
 ],
 "metadata": {
  "kernelspec": {
   "display_name": "Python 3",
   "language": "python",
   "name": "python3"
  },
  "language_info": {
   "codemirror_mode": {
    "name": "ipython",
    "version": 3
   },
   "file_extension": ".py",
   "mimetype": "text/x-python",
   "name": "python",
   "nbconvert_exporter": "python",
   "pygments_lexer": "ipython3",
   "version": "3.6.4"
  }
 },
 "nbformat": 4,
 "nbformat_minor": 2
}
